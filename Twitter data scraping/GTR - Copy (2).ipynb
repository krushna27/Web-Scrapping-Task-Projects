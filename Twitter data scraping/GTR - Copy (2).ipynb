{
 "cells": [
  {
   "cell_type": "code",
   "execution_count": 1,
   "metadata": {},
   "outputs": [],
   "source": [
    "import selenium\n",
    "from selenium import webdriver\n",
    "from selenium.webdriver.chrome.options import Options\n",
    "from selenium.webdriver.common.by import By\n",
    "from selenium.webdriver.common.keys import Keys\n",
    "from time import sleep\n",
    "import pandas as pd\n",
    "import csv\n",
    "import re\n",
    "import mysql.connector"
   ]
  },
  {
   "cell_type": "code",
   "execution_count": 2,
   "metadata": {},
   "outputs": [],
   "source": [
    "# Path to ChromeDriver executable\n",
    "PATH = r\"C:\\chromedriver-win64\\chromedriver.exe\"\n",
    "\n",
    "# Create ChromeOptions instance\n",
    "options = webdriver.ChromeOptions()\n",
    "driver = webdriver.Chrome(options=options)\n",
    "driver.get(\"https://twitter.com/login\")\n",
    "\n",
    "\n"
   ]
  },
  {
   "cell_type": "code",
   "execution_count": 3,
   "metadata": {},
   "outputs": [],
   "source": [
    "mydb = mysql.connector.connect(\n",
    "  host=\"localhost\",\n",
    "  user=\"root\",\n",
    "  password=\"kxxxxxx\",\n",
    "  database=\"BanaoTask3\"\n",
    ")"
   ]
  },
  {
   "cell_type": "code",
   "execution_count": 4,
   "metadata": {},
   "outputs": [],
   "source": [
    "cursor = mydb.cursor()"
   ]
  },
  {
   "cell_type": "code",
   "execution_count": 5,
   "metadata": {},
   "outputs": [],
   "source": [
    "create_table_query = \"\"\"\n",
    "CREATE TABLE IF NOT EXISTS user_profiles (\n",
    "    id INT AUTO_INCREMENT PRIMARY KEY,\n",
    "    username VARCHAR(255),\n",
    "    user_description TEXT,\n",
    "    user_location VARCHAR(255),\n",
    "    user_followers INT,\n",
    "    user_following INT,\n",
    "    user_url VARCHAR(255)\n",
    ");\n",
    "\"\"\"\n",
    "\n",
    "cursor.execute(create_table_query)\n"
   ]
  },
  {
   "cell_type": "code",
   "execution_count": null,
   "metadata": {},
   "outputs": [],
   "source": []
  },
  {
   "cell_type": "code",
   "execution_count": 6,
   "metadata": {},
   "outputs": [],
   "source": [
    "from selenium.common.exceptions import NoSuchElementException\n",
    "UserDescriptions = []\n",
    "UserFollowers = []\n",
    "UserFollowing = []\n",
    "UserLocation = []\n",
    "UserUrl = []\n",
    "\n"
   ]
  },
  {
   "cell_type": "code",
   "execution_count": 7,
   "metadata": {},
   "outputs": [
    {
     "name": "stdout",
     "output_type": "stream",
     "text": [
      "['whatsapp', 'aacb_CBPTrade', 'aacbdotcom', '@AAWindowPRODUCT', 'ABHomeInc', 'Abrepro', 'ACChristofiLtd', 'aeclothing1', 'AETechnologies1', 'AGInsuranceLLC']\n"
     ]
    }
   ],
   "source": [
    "csv_file_path = 'twitter_links1 - Copy.csv'  \n",
    "with open(csv_file_path, 'r') as csv_file:\n",
    "    reader = csv.reader(csv_file)\n",
    "    links = [row[0] for row in reader]\n",
    "    subject = []\n",
    "\n",
    "\n",
    "for link in links:\n",
    "    # Extract username using regular expression\n",
    "    username = re.search(r'https://twitter.com/([^/]+)', link)\n",
    "    \n",
    "    if username:\n",
    "        subject.append(username.group(1))\n",
    "new1 = subject        \n",
    "print(subject)"
   ]
  },
  {
   "cell_type": "code",
   "execution_count": 8,
   "metadata": {},
   "outputs": [],
   "source": [
    "sleep(3)\n",
    "username_input = driver.find_element(By.XPATH, \"//input[@name='text']\")\n",
    "username_input.send_keys(\"@Bankark55\")\n",
    "next_button = driver.find_element(By.XPATH, \"//span[contains(text(),'Next')]\")\n",
    "next_button.click()"
   ]
  },
  {
   "cell_type": "code",
   "execution_count": 9,
   "metadata": {},
   "outputs": [],
   "source": [
    "sleep(3)\n",
    "password_input = driver.find_element(By.XPATH, \"//input[@name='password']\")\n",
    "password_input.send_keys('xxxxxxx')\n",
    "log_in_button = driver.find_element(By.XPATH, \"//span[contains(text(),'Log in')]\")\n",
    "log_in_button.click()"
   ]
  },
  {
   "cell_type": "code",
   "execution_count": 10,
   "metadata": {},
   "outputs": [
    {
     "name": "stdout",
     "output_type": "stream",
     "text": [
      "An error occurred for user whatsapp: Message: no such element: Unable to locate element: {\"method\":\"xpath\",\"selector\":\"//div[@data-testid='UserDescription']\"}\n",
      "  (Session info: chrome=120.0.6099.130); For documentation on this error, please visit: https://www.selenium.dev/documentation/webdriver/troubleshooting/errors#no-such-element-exception\n",
      "Stacktrace:\n",
      "\tGetHandleVerifier [0x00007FF6DB632142+3514994]\n",
      "\t(No symbol) [0x00007FF6DB250CE2]\n",
      "\t(No symbol) [0x00007FF6DB0F76AA]\n",
      "\t(No symbol) [0x00007FF6DB141860]\n",
      "\t(No symbol) [0x00007FF6DB14197C]\n",
      "\t(No symbol) [0x00007FF6DB184EE7]\n",
      "\t(No symbol) [0x00007FF6DB16602F]\n",
      "\t(No symbol) [0x00007FF6DB1828F6]\n",
      "\t(No symbol) [0x00007FF6DB165D93]\n",
      "\t(No symbol) [0x00007FF6DB134BDC]\n",
      "\t(No symbol) [0x00007FF6DB135C64]\n",
      "\tGetHandleVerifier [0x00007FF6DB65E16B+3695259]\n",
      "\tGetHandleVerifier [0x00007FF6DB6B6737+4057191]\n",
      "\tGetHandleVerifier [0x00007FF6DB6AE4E3+4023827]\n",
      "\tGetHandleVerifier [0x00007FF6DB3804F9+689705]\n",
      "\t(No symbol) [0x00007FF6DB25C048]\n",
      "\t(No symbol) [0x00007FF6DB258044]\n",
      "\t(No symbol) [0x00007FF6DB2581C9]\n",
      "\t(No symbol) [0x00007FF6DB2488C4]\n",
      "\tBaseThreadInitThunk [0x00007FFB5E85257D+29]\n",
      "\tRtlUserThreadStart [0x00007FFB5FB6AA58+40]\n",
      "\n",
      "An error occurred for user aacb_CBPTrade: Message: no such element: Unable to locate element: {\"method\":\"xpath\",\"selector\":\"//a[@data-testid='UserUrl']\"}\n",
      "  (Session info: chrome=120.0.6099.130); For documentation on this error, please visit: https://www.selenium.dev/documentation/webdriver/troubleshooting/errors#no-such-element-exception\n",
      "Stacktrace:\n",
      "\tGetHandleVerifier [0x00007FF6DB632142+3514994]\n",
      "\t(No symbol) [0x00007FF6DB250CE2]\n",
      "\t(No symbol) [0x00007FF6DB0F76AA]\n",
      "\t(No symbol) [0x00007FF6DB141860]\n",
      "\t(No symbol) [0x00007FF6DB14197C]\n",
      "\t(No symbol) [0x00007FF6DB184EE7]\n",
      "\t(No symbol) [0x00007FF6DB16602F]\n",
      "\t(No symbol) [0x00007FF6DB1828F6]\n",
      "\t(No symbol) [0x00007FF6DB165D93]\n",
      "\t(No symbol) [0x00007FF6DB134BDC]\n",
      "\t(No symbol) [0x00007FF6DB135C64]\n",
      "\tGetHandleVerifier [0x00007FF6DB65E16B+3695259]\n",
      "\tGetHandleVerifier [0x00007FF6DB6B6737+4057191]\n",
      "\tGetHandleVerifier [0x00007FF6DB6AE4E3+4023827]\n",
      "\tGetHandleVerifier [0x00007FF6DB3804F9+689705]\n",
      "\t(No symbol) [0x00007FF6DB25C048]\n",
      "\t(No symbol) [0x00007FF6DB258044]\n",
      "\t(No symbol) [0x00007FF6DB2581C9]\n",
      "\t(No symbol) [0x00007FF6DB2488C4]\n",
      "\tBaseThreadInitThunk [0x00007FFB5E85257D+29]\n",
      "\tRtlUserThreadStart [0x00007FFB5FB6AA58+40]\n",
      "\n",
      "An error occurred for user aacbdotcom: 1265 (01000): Data truncated for column 'user_followers' at row 1\n",
      "An error occurred for user @AAWindowPRODUCT: Message: no such element: Unable to locate element: {\"method\":\"xpath\",\"selector\":\"//a[@href='/@AAWindowPRODUCT/verified_followers']//span[@class='css-1qaijid r-bcqeeo r-qvutc0 r-poiln3 r-1b43r93 r-1cwl3u0 r-b88u0q']\"}\n",
      "  (Session info: chrome=120.0.6099.130); For documentation on this error, please visit: https://www.selenium.dev/documentation/webdriver/troubleshooting/errors#no-such-element-exception\n",
      "Stacktrace:\n",
      "\tGetHandleVerifier [0x00007FF6DB632142+3514994]\n",
      "\t(No symbol) [0x00007FF6DB250CE2]\n",
      "\t(No symbol) [0x00007FF6DB0F76AA]\n",
      "\t(No symbol) [0x00007FF6DB141860]\n",
      "\t(No symbol) [0x00007FF6DB14197C]\n",
      "\t(No symbol) [0x00007FF6DB184EE7]\n",
      "\t(No symbol) [0x00007FF6DB16602F]\n",
      "\t(No symbol) [0x00007FF6DB1828F6]\n",
      "\t(No symbol) [0x00007FF6DB165D93]\n",
      "\t(No symbol) [0x00007FF6DB134BDC]\n",
      "\t(No symbol) [0x00007FF6DB135C64]\n",
      "\tGetHandleVerifier [0x00007FF6DB65E16B+3695259]\n",
      "\tGetHandleVerifier [0x00007FF6DB6B6737+4057191]\n",
      "\tGetHandleVerifier [0x00007FF6DB6AE4E3+4023827]\n",
      "\tGetHandleVerifier [0x00007FF6DB3804F9+689705]\n",
      "\t(No symbol) [0x00007FF6DB25C048]\n",
      "\t(No symbol) [0x00007FF6DB258044]\n",
      "\t(No symbol) [0x00007FF6DB2581C9]\n",
      "\t(No symbol) [0x00007FF6DB2488C4]\n",
      "\tBaseThreadInitThunk [0x00007FFB5E85257D+29]\n",
      "\tRtlUserThreadStart [0x00007FFB5FB6AA58+40]\n",
      "\n",
      "An error occurred for user AETechnologies1: Message: no such element: Unable to locate element: {\"method\":\"xpath\",\"selector\":\"//div[@data-testid='UserDescription']\"}\n",
      "  (Session info: chrome=120.0.6099.130); For documentation on this error, please visit: https://www.selenium.dev/documentation/webdriver/troubleshooting/errors#no-such-element-exception\n",
      "Stacktrace:\n",
      "\tGetHandleVerifier [0x00007FF6DB632142+3514994]\n",
      "\t(No symbol) [0x00007FF6DB250CE2]\n",
      "\t(No symbol) [0x00007FF6DB0F76AA]\n",
      "\t(No symbol) [0x00007FF6DB141860]\n",
      "\t(No symbol) [0x00007FF6DB14197C]\n",
      "\t(No symbol) [0x00007FF6DB184EE7]\n",
      "\t(No symbol) [0x00007FF6DB16602F]\n",
      "\t(No symbol) [0x00007FF6DB1828F6]\n",
      "\t(No symbol) [0x00007FF6DB165D93]\n",
      "\t(No symbol) [0x00007FF6DB134BDC]\n",
      "\t(No symbol) [0x00007FF6DB135C64]\n",
      "\tGetHandleVerifier [0x00007FF6DB65E16B+3695259]\n",
      "\tGetHandleVerifier [0x00007FF6DB6B6737+4057191]\n",
      "\tGetHandleVerifier [0x00007FF6DB6AE4E3+4023827]\n",
      "\tGetHandleVerifier [0x00007FF6DB3804F9+689705]\n",
      "\t(No symbol) [0x00007FF6DB25C048]\n",
      "\t(No symbol) [0x00007FF6DB258044]\n",
      "\t(No symbol) [0x00007FF6DB2581C9]\n",
      "\t(No symbol) [0x00007FF6DB2488C4]\n",
      "\tBaseThreadInitThunk [0x00007FFB5E85257D+29]\n",
      "\tRtlUserThreadStart [0x00007FFB5FB6AA58+40]\n",
      "\n"
     ]
    }
   ],
   "source": [
    "\n",
    "user_profiles = []\n",
    "\n",
    "# Loop through each username and collect profile information\n",
    "for username in new1:\n",
    "    try:\n",
    "        sleep(3)\n",
    "        search_box = driver.find_element(By.XPATH, \"//input[@data-testid='SearchBox_Search_Input']\")\n",
    "        search_box.clear()\n",
    "        search_box.send_keys(username)\n",
    "        search_box.send_keys(Keys.ENTER)\n",
    "\n",
    "        sleep(3)\n",
    "        people = driver.find_element(By.XPATH, \"//span[contains(text(),'People')]\")\n",
    "        people.click()\n",
    "\n",
    "        sleep(4)\n",
    "        profile = driver.find_element(By.XPATH, '//*[@id=\"react-root\"]/div/div/div[2]/main/div/div/div/div/div/div[3]/section/div/div/div[1]/div/div/div/div/div[2]/div[1]/div[1]/div/div[1]/a/div/div[1]/span/span[1]')\n",
    "        profile.click()\n",
    "\n",
    "        UserDescriptions = driver.find_element(By.XPATH, \"//div[@data-testid='UserDescription']\").text\n",
    "        UserLocation = driver.find_element(By.XPATH, \"//span[@data-testid='UserLocation']\").text\n",
    "        UserUrl = driver.find_element(By.XPATH, \"//a[@data-testid='UserUrl']\").text\n",
    "        UserFollowers = driver.find_element(By.XPATH, \"//span[@class='css-1qaijid r-bcqeeo r-qvutc0 r-poiln3 r-1b43r93 r-1cwl3u0 r-b88u0q']\").text\n",
    "        UserFollowing = driver.find_element(By.XPATH, \"//a[@href='/\" + username + \"/verified_followers']//span[@class='css-1qaijid r-bcqeeo r-qvutc0 r-poiln3 r-1b43r93 r-1cwl3u0 r-b88u0q']\").text\n",
    "\n",
    "        # Store the information in a dictionary\n",
    "        user_data = {\n",
    "            'Username': username,\n",
    "            'UserDescription': UserDescriptions,\n",
    "            'UserLocation': UserLocation,\n",
    "            'UserFollowers': UserFollowers,\n",
    "            'UserFollowing': UserFollowing,\n",
    "            'UserUrl': UserUrl\n",
    "        }\n",
    "\n",
    "        # Append the dictionary to the list\n",
    "        user_profiles.append(user_data)\n",
    "        # Insert data into MySQL table\n",
    "        insert_query = \"\"\"\n",
    "        INSERT INTO user_profiles \n",
    "        (username, user_description, user_location, user_followers, user_following, user_url) \n",
    "        VALUES (%s, %s, %s, %s, %s, %s)\n",
    "        \"\"\"\n",
    "\n",
    "        data = (\n",
    "            username,\n",
    "            UserDescriptions,\n",
    "            UserLocation,\n",
    "            UserFollowers,\n",
    "            UserFollowing,\n",
    "            UserUrl\n",
    "        )\n",
    "\n",
    "        cursor.execute(insert_query, data)\n",
    "        mydb.commit()\n",
    "    except Exception as e:\n",
    "        print(f\"An error occurred for user {username}: {e}\")\n",
    "\n",
    "# Print or further process the collected user profiles\n",
    "# for profile_data in user_profiles:\n",
    "#     print(profile_data)\n",
    "\n",
    "# Close the browser\n",
    "driver.quit()\n"
   ]
  },
  {
   "cell_type": "code",
   "execution_count": 11,
   "metadata": {},
   "outputs": [
    {
     "name": "stdout",
     "output_type": "stream",
     "text": [
      "(1, 'ABHomeInc', 'Industry leader in wholesale home decor, furniture, and garden, since 1993.', 'Rancho Cucamonga, CA', 181, 364, 'abhomeinc.com')\n",
      "(2, 'Abrepro', 'From large format black & white prints to the most sophisticated of digital color printing jobs, A & B can get the job done right.', 'Bentonville, AR', 125, 133, 'abrepro.com')\n",
      "(3, 'ACChristofiLtd', 'A & C CHRISTOFI LTD is a fast growing professional services company based in Limassol, Cyprus. Our main Concern is your Business.', 'Cyprus', 292, 90, 'acccyp.com')\n",
      "(4, 'aeclothing1', 'Used Clothing Distributor', 'Carteret', 0, 15, 'aeclothing.net')\n",
      "(5, 'AGInsuranceLLC', 'A & G Insurance prides itself on being your local, full service, Independent Insurance Agency.', 'Connecticut', 260, 46, 'aginsuranceinc.com')\n",
      "(6, 'ABHomeInc', 'Industry leader in wholesale home decor, furniture, and garden, since 1993.', 'Rancho Cucamonga, CA', 181, 363, 'abhomeinc.com')\n",
      "(7, 'Abrepro', 'From large format black & white prints to the most sophisticated of digital color printing jobs, A & B can get the job done right.', 'Bentonville, AR', 125, 133, 'abrepro.com')\n",
      "(8, 'ACChristofiLtd', 'A & C CHRISTOFI LTD is a fast growing professional services company based in Limassol, Cyprus. Our main Concern is your Business.', 'Cyprus', 292, 90, 'acccyp.com')\n",
      "(9, 'aeclothing1', 'Used Clothing Distributor', 'Carteret', 0, 15, 'aeclothing.net')\n",
      "(10, 'AGInsuranceLLC', 'A & G Insurance prides itself on being your local, full service, Independent Insurance Agency.', 'Connecticut', 260, 46, 'aginsuranceinc.com')\n"
     ]
    }
   ],
   "source": [
    "cursor.execute(\"SELECT * FROM user_profiles\")\n",
    "myresult = cursor.fetchall()\n",
    "for i in myresult:\n",
    "    print(i)"
   ]
  },
  {
   "cell_type": "code",
   "execution_count": 12,
   "metadata": {},
   "outputs": [],
   "source": [
    "# df.to_csv(\"thisisfinal.csv\",index=True)"
   ]
  }
 ],
 "metadata": {
  "kernelspec": {
   "display_name": "mlproj1",
   "language": "python",
   "name": "python3"
  },
  "language_info": {
   "codemirror_mode": {
    "name": "ipython",
    "version": 3
   },
   "file_extension": ".py",
   "mimetype": "text/x-python",
   "name": "python",
   "nbconvert_exporter": "python",
   "pygments_lexer": "ipython3",
   "version": "3.10.9"
  }
 },
 "nbformat": 4,
 "nbformat_minor": 2
}
